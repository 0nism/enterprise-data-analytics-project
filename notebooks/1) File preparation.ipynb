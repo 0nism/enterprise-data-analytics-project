{
 "cells": [
  {
   "cell_type": "markdown",
   "metadata": {},
   "source": [
    "First we import everything we need"
   ]
  },
  {
   "cell_type": "code",
   "execution_count": 1,
   "metadata": {},
   "outputs": [],
   "source": [
    "import os\n",
    "import pandas as pd"
   ]
  },
  {
   "cell_type": "markdown",
   "metadata": {},
   "source": [
    "Then we take a look at the raw data folder"
   ]
  },
  {
   "cell_type": "code",
   "execution_count": 2,
   "metadata": {},
   "outputs": [
    {
     "data": {
      "text/plain": [
       "['201904_demo.it_201905139_1705203_ReedSensor.csv',\n",
       " '201903_demo.it_201905139_1443721_LuxMeter.csv',\n",
       " '201903_demo.it_201905139_1706199_ReedSensor.csv',\n",
       " '201803_demo.it_201905140_0012800_LuxMeter.csv',\n",
       " '201904_demo.it_201905139_1716654_Environmental.csv',\n",
       " '201805_demo.it_201905140_0013843_LuxMeter.csv',\n",
       " '201902_demo.it_201905139_1710863_ReedSensor.csv',\n",
       " '201803_demo.it_201905139_2302655_Presence.csv',\n",
       " '201805_demo.it_201905139_2241968_powerelectricity.csv',\n",
       " '201903_demo.it_201905139_1615869_Presence.csv',\n",
       " '201804_demo.it_201905139_2302312_Presence.csv',\n",
       " '201803_demo.it_201905139_230269_ReedSensor.csv',\n",
       " '201902_demo.it_201905139_1610271_LuxMeter.csv',\n",
       " '201902_demo.it_201905139_1716752_Environmental.csv',\n",
       " '201903_demo.it_201905139_1716973_Environmental.csv',\n",
       " '201904_demo.it_201905139_1615548_Presence.csv',\n",
       " '201902_demo.it_201905139_1612442_Presence.csv',\n",
       " '201805_demo.it_201905139_2302581_Presence.csv',\n",
       " '201804_demo.it_201905139_2303629_ReedSensor.csv',\n",
       " '201904_demo.it_201905139_1442492_LuxMeter.csv',\n",
       " '201804_demo.it_201905140_0013825_LuxMeter.csv',\n",
       " '201804_demo.it_201905139_2241977_powerelectricity.csv',\n",
       " '201803_demo.it_201905139_2232439_powerelectricity.csv',\n",
       " '201805_demo.it_201905139_2302679_ReedSensor.csv']"
      ]
     },
     "execution_count": 2,
     "metadata": {},
     "output_type": "execute_result"
    }
   ],
   "source": [
    "DATA_DIR = '../data/raw/'\n",
    "\n",
    "raw_files = os.listdir(DATA_DIR)\n",
    "raw_files"
   ]
  },
  {
   "cell_type": "markdown",
   "metadata": {},
   "source": [
    "Let's split files by sensor type"
   ]
  },
  {
   "cell_type": "code",
   "execution_count": 3,
   "metadata": {},
   "outputs": [
    {
     "name": "stdout",
     "output_type": "stream",
     "text": [
      "Reedsensor: ['201803_demo.it_201905139_230269_ReedSensor.csv', '201804_demo.it_201905139_2303629_ReedSensor.csv', '201805_demo.it_201905139_2302679_ReedSensor.csv', '201902_demo.it_201905139_1710863_ReedSensor.csv', '201903_demo.it_201905139_1706199_ReedSensor.csv', '201904_demo.it_201905139_1705203_ReedSensor.csv']         \n",
      "\n",
      "Luxmeter: ['201803_demo.it_201905140_0012800_LuxMeter.csv', '201804_demo.it_201905140_0013825_LuxMeter.csv', '201805_demo.it_201905140_0013843_LuxMeter.csv', '201902_demo.it_201905139_1610271_LuxMeter.csv', '201903_demo.it_201905139_1443721_LuxMeter.csv', '201904_demo.it_201905139_1442492_LuxMeter.csv']         \n",
      "\n",
      "Environmental: ['201902_demo.it_201905139_1716752_Environmental.csv', '201903_demo.it_201905139_1716973_Environmental.csv', '201904_demo.it_201905139_1716654_Environmental.csv']         \n",
      "\n",
      "Presence: ['201803_demo.it_201905139_2302655_Presence.csv', '201804_demo.it_201905139_2302312_Presence.csv', '201805_demo.it_201905139_2302581_Presence.csv', '201902_demo.it_201905139_1612442_Presence.csv', '201903_demo.it_201905139_1615869_Presence.csv', '201904_demo.it_201905139_1615548_Presence.csv']         \n",
      "\n",
      "Powerelectricty: ['201803_demo.it_201905139_2232439_powerelectricity.csv', '201804_demo.it_201905139_2241977_powerelectricity.csv', '201805_demo.it_201905139_2241968_powerelectricity.csv']\n"
     ]
    }
   ],
   "source": [
    "reedsensor = sorted([f for f in raw_files if \"ReedSensor\" in f])\n",
    "luxmeter = sorted([f for f in raw_files if \"LuxMeter\" in f])\n",
    "environmental = sorted([f for f in raw_files if \"Environmental\" in f])\n",
    "presence = sorted([f for f in raw_files if \"Presence\" in f])\n",
    "powerelectricity = sorted([f for f in raw_files if \"powerelectricity\" in f])\n",
    "\n",
    "print(f'Reedsensor: {reedsensor} \\\n",
    "        \\n\\nLuxmeter: {luxmeter} \\\n",
    "        \\n\\nEnvironmental: {environmental} \\\n",
    "        \\n\\nPresence: {presence} \\\n",
    "        \\n\\nPowerelectricty: {powerelectricity}')\n",
    "\n",
    "sensors  = {'reedsensor':reedsensor, 'luxmeter':luxmeter, 'environmental':environmental, 'presence':presence, 'powerelectricity':powerelectricity}"
   ]
  },
  {
   "cell_type": "markdown",
   "metadata": {},
   "source": [
    "Let's merge files by sensor type "
   ]
  },
  {
   "cell_type": "code",
   "execution_count": 4,
   "metadata": {},
   "outputs": [
    {
     "name": "stdout",
     "output_type": "stream",
     "text": [
      "Merged reedsensor\n",
      "Merged luxmeter\n",
      "Merged environmental\n",
      "Merged presence\n",
      "Merged powerelectricity\n"
     ]
    }
   ],
   "source": [
    "NEW_DATA_DIR = '../data/interim/'\n",
    "\n",
    "try:\n",
    "    os.mkdir(NEW_DATA_DIR)\n",
    "except:\n",
    "    pass\n",
    "\n",
    "for sensor_name, sensor_files in sensors.items():\n",
    "    df = pd.concat([pd.read_csv(DATA_DIR + f, sep=';') for f in sensor_files])\n",
    "    df.drop(df.columns[[-1,]], axis=1, inplace=True)\n",
    "    df.to_csv(NEW_DATA_DIR + sensor_name + '.csv', index=False)\n",
    "    print(f'Merged {sensor_name}')"
   ]
  }
 ],
 "metadata": {
  "kernelspec": {
   "display_name": "Python 3",
   "language": "python",
   "name": "python3"
  },
  "language_info": {
   "codemirror_mode": {
    "name": "ipython",
    "version": 3
   },
   "file_extension": ".py",
   "mimetype": "text/x-python",
   "name": "python",
   "nbconvert_exporter": "python",
   "pygments_lexer": "ipython3",
   "version": "3.7.3"
  }
 },
 "nbformat": 4,
 "nbformat_minor": 2
}
