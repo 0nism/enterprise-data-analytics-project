{
 "cells": [
  {
   "cell_type": "markdown",
   "metadata": {},
   "source": [
    "# Power electricity power consumption prediction model"
   ]
  },
  {
   "cell_type": "markdown",
   "metadata": {},
   "source": [
    "Let's first start by importing the needed libraries"
   ]
  },
  {
   "cell_type": "code",
   "execution_count": 1,
   "metadata": {},
   "outputs": [],
   "source": [
    "from pyspark.sql import SparkSession"
   ]
  },
  {
   "cell_type": "markdown",
   "metadata": {},
   "source": [
    "And create a local parallel spark session"
   ]
  },
  {
   "cell_type": "code",
   "execution_count": 2,
   "metadata": {},
   "outputs": [],
   "source": [
    "spark = SparkSession.builder \\\n",
    "        .master(\"local[*]\") \\\n",
    "        .appName(\"Power electricity prediction\") \\\n",
    "        .getOrCreate()"
   ]
  },
  {
   "cell_type": "markdown",
   "metadata": {},
   "source": [
    "The we read the dataframe we need to apply the prediction on"
   ]
  },
  {
   "cell_type": "code",
   "execution_count": 3,
   "metadata": {
    "scrolled": true
   },
   "outputs": [],
   "source": [
    "train = spark.read.csv('../data/engineered/powerelectricity_train.csv', header=True, inferSchema=True)\n",
    "test = spark.read.csv('../data/engineered/powerelectricity_test.csv', header=True, inferSchema=True)"
   ]
  },
  {
   "cell_type": "markdown",
   "metadata": {},
   "source": [
    "Now we will test some regression models and evaluate them using rmse"
   ]
  },
  {
   "cell_type": "code",
   "execution_count": 4,
   "metadata": {},
   "outputs": [],
   "source": [
    "from pyspark.ml import Pipeline\n",
    "from pyspark.ml.regression import RandomForestRegressor, GBTRegressor, LinearRegression\n",
    "from pyspark.ml.feature import VectorIndexer\n",
    "from pyspark.ml.evaluation import RegressionEvaluator\n",
    "from pyspark.ml.feature import VectorAssembler"
   ]
  },
  {
   "cell_type": "code",
   "execution_count": 5,
   "metadata": {},
   "outputs": [],
   "source": [
    "train_ep = train.drop('rms_current')\n",
    "train_ep = train_ep.drop('electric_power')\n",
    "\n",
    "#train_rms = train.drop('electric_power')\n",
    "\n",
    "test_ep = test.drop('rms_current')\n",
    "test_ep = test_ep.drop('electric_power')\n",
    "\n",
    "#test_rms = test.drop('electric_power')\n",
    "\n",
    "features_ep = train_ep.columns.copy()\n",
    "#features_ep.remove('electric_power')\n",
    "features_ep.remove('delta_y')\n",
    "\n",
    "#features_rms = train_rms.columns.copy()\n",
    "#features_rms.remove('rms_current')"
   ]
  },
  {
   "cell_type": "code",
   "execution_count": 6,
   "metadata": {},
   "outputs": [],
   "source": [
    "assembler_pe_train = VectorAssembler(inputCols=features_ep,outputCol=\"features\")\n",
    "train_ep = assembler_pe_train.transform(train_ep)\n",
    "assembler_pe_test = VectorAssembler(inputCols=features_ep,outputCol=\"features\")\n",
    "test_ep = assembler_pe_test.transform(test_ep)"
   ]
  },
  {
   "cell_type": "markdown",
   "metadata": {},
   "source": [
    "Let's start by predicting electric_power"
   ]
  },
  {
   "cell_type": "code",
   "execution_count": 231,
   "metadata": {},
   "outputs": [],
   "source": [
    "#rf_pe = RandomForestRegressor(featuresCol=\"features\",labelCol='delta_y', maxDepth=15, maxBins=14, minInstancesPerNode=1, minInfoGain=0.0005, subsamplingRate=1, seed=42, numTrees=50)\n",
    "#rf_pe = RandomForestRegressor(featuresCol=\"features\",labelCol='delta_y', maxDepth=6,numTrees=20,seed=12345)\n",
    "rf_pe = GBTRegressor(featuresCol=\"features\",labelCol='delta_y',seed=12345)"
   ]
  },
  {
   "cell_type": "code",
   "execution_count": null,
   "metadata": {},
   "outputs": [],
   "source": [
    "%%time\n",
    "\n",
    "model_pe = rf_pe.fit(train_ep)"
   ]
  },
  {
   "cell_type": "code",
   "execution_count": null,
   "metadata": {},
   "outputs": [],
   "source": [
    "predictions = model_pe.transform(train_ep)"
   ]
  },
  {
   "cell_type": "code",
   "execution_count": null,
   "metadata": {},
   "outputs": [],
   "source": [
    "print('################################ TRAIN ################################')\n",
    "evaluator_rmse = RegressionEvaluator(\n",
    "    labelCol=\"delta_y\", predictionCol=\"prediction\", metricName=\"rmse\")\n",
    "rmse = evaluator_rmse.evaluate(predictions)\n",
    "print(\"Root Mean Squared Error (RMSE) on train data = %g\" % rmse)\n",
    "\n",
    "evaluator_r2 = RegressionEvaluator(\n",
    "    labelCol=\"delta_y\", predictionCol=\"prediction\", metricName=\"r2\")\n",
    "r2 = evaluator_r2.evaluate(predictions)\n",
    "print(\"R squared (r2) on train data = %g\" % r2)\n",
    "\n",
    "evaluator_mae = RegressionEvaluator(\n",
    "    labelCol=\"delta_y\", predictionCol=\"prediction\", metricName=\"mae\")\n",
    "mae = evaluator_mae.evaluate(predictions)\n",
    "print(\"Mean Average Error (RMSE) on train data = %g\" % mae)"
   ]
  },
  {
   "cell_type": "code",
   "execution_count": null,
   "metadata": {},
   "outputs": [],
   "source": [
    "predictions = model_pe.transform(test_ep)"
   ]
  },
  {
   "cell_type": "code",
   "execution_count": null,
   "metadata": {
    "scrolled": true
   },
   "outputs": [],
   "source": [
    "print('################################ TEST ################################')\n",
    "\n",
    "evaluator_rmse = RegressionEvaluator(\n",
    "    labelCol=\"delta_y\", predictionCol=\"prediction\", metricName=\"rmse\")\n",
    "rmse = evaluator_rmse.evaluate(predictions)\n",
    "print(\"Root Mean Squared Error (RMSE) on test data = %g\" % rmse)\n",
    "\n",
    "evaluator_r2 = RegressionEvaluator(\n",
    "    labelCol=\"delta_y\", predictionCol=\"prediction\", metricName=\"r2\")\n",
    "r2 = evaluator_r2.evaluate(predictions)\n",
    "print(\"R squared (r2) on test data = %g\" % r2)\n",
    "\n",
    "evaluator_mae = RegressionEvaluator(\n",
    "    labelCol=\"delta_y\", predictionCol=\"prediction\", metricName=\"mae\")\n",
    "mae = evaluator_mae.evaluate(predictions)\n",
    "print(\"Mean Average Error (RMSE) on test data = %g\" % mae)"
   ]
  },
  {
   "cell_type": "code",
   "execution_count": null,
   "metadata": {},
   "outputs": [],
   "source": [
    "predictions.select([\"delta_y\", \"prediction\"]).show(100000)"
   ]
  },
  {
   "cell_type": "markdown",
   "metadata": {},
   "source": [
    "And finally save to a file the predictions"
   ]
  },
  {
   "cell_type": "code",
   "execution_count": null,
   "metadata": {},
   "outputs": [],
   "source": [
    "import os\n",
    "\n",
    "try:\n",
    "    os.mkdir('../predictions/')\n",
    "except:\n",
    "    pass\n",
    "\n",
    "preds = predictions.select([\"prediction\"])\n",
    "preds.toPandas().to_csv('../predictions/preds.csv')"
   ]
  },
  {
   "cell_type": "code",
   "execution_count": null,
   "metadata": {},
   "outputs": [],
   "source": []
  },
  {
   "cell_type": "code",
   "execution_count": null,
   "metadata": {},
   "outputs": [],
   "source": []
  },
  {
   "cell_type": "code",
   "execution_count": null,
   "metadata": {},
   "outputs": [],
   "source": []
  }
 ],
 "metadata": {
  "kernelspec": {
   "display_name": "Python 3",
   "language": "python",
   "name": "python3"
  },
  "language_info": {
   "codemirror_mode": {
    "name": "ipython",
    "version": 3
   },
   "file_extension": ".py",
   "mimetype": "text/x-python",
   "name": "python",
   "nbconvert_exporter": "python",
   "pygments_lexer": "ipython3",
   "version": "3.7.3"
  }
 },
 "nbformat": 4,
 "nbformat_minor": 2
}
